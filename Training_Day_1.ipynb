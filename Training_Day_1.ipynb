{
 "cells": [
  {
   "cell_type": "code",
   "execution_count": 24,
   "metadata": {
    "scrolled": true
   },
   "outputs": [
    {
     "name": "stdout",
     "output_type": "stream",
     "text": [
      "(7.5-12.5j)\n",
      "(7.5-12.5j)\n",
      "7.5 -12.5\n"
     ]
    }
   ],
   "source": [
    "# integer\n",
    "x= 1\n",
    "type (x)\n",
    "\n",
    "#string\n",
    "a = \"Karunakar\"\n",
    "type (a)\n",
    "\n",
    "# Boolean - First legget always Capital\n",
    "b = True\n",
    "c = False\n",
    "type(b)\n",
    "\n",
    "# Float\n",
    "a = 11.0 +12.0\n",
    "type (a)\n",
    "\n",
    "# Complex numbers: Number 'J' will be imaginary number\n",
    "a = 7.5 - 12.5j\n",
    "type (a)\n",
    "print(a)\n",
    "print(a)\n",
    "print(a.real,a.imag)"
   ]
  },
  {
   "cell_type": "code",
   "execution_count": 33,
   "metadata": {},
   "outputs": [
    {
     "data": {
      "text/plain": [
       "True"
      ]
     },
     "execution_count": 33,
     "metadata": {},
     "output_type": "execute_result"
    }
   ],
   "source": [
    "karna = 10\n",
    "karna\n",
    "\n",
    "True and True\n",
    "True and False\n",
    "not True\n",
    "True is True"
   ]
  },
  {
   "cell_type": "code",
   "execution_count": 42,
   "metadata": {},
   "outputs": [
    {
     "name": "stdout",
     "output_type": "stream",
     "text": [
      "more than 7\n"
     ]
    }
   ],
   "source": [
    "# IF Else \n",
    "i = 10\n",
    "if i <= 5:\n",
    "    Print('Less Than 10')\n",
    "elif i < 7:\n",
    "    print('Less than 7')\n",
    "else:\n",
    "    print('more than 7')"
   ]
  },
  {
   "cell_type": "code",
   "execution_count": 114,
   "metadata": {},
   "outputs": [
    {
     "name": "stdout",
     "output_type": "stream",
     "text": [
      "[]\n",
      "[5, 6, 7]\n",
      "['k', 'a', 'r', 'u', 'n', 'a']\n"
     ]
    },
    {
     "ename": "TypeError",
     "evalue": "append() takes exactly one argument (2 given)",
     "output_type": "error",
     "traceback": [
      "\u001b[1;31m---------------------------------------------------------------------------\u001b[0m",
      "\u001b[1;31mTypeError\u001b[0m                                 Traceback (most recent call last)",
      "\u001b[1;32m<ipython-input-114-5acea6c1db6b>\u001b[0m in \u001b[0;36m<module>\u001b[1;34m\u001b[0m\n\u001b[0;32m     29\u001b[0m \u001b[0ml\u001b[0m\u001b[1;33m.\u001b[0m\u001b[0mappend\u001b[0m\u001b[1;33m(\u001b[0m\u001b[1;34m'adfs'\u001b[0m\u001b[1;33m)\u001b[0m\u001b[1;33m\u001b[0m\u001b[1;33m\u001b[0m\u001b[0m\n\u001b[0;32m     30\u001b[0m \u001b[0ml\u001b[0m\u001b[1;33m.\u001b[0m\u001b[0mappend\u001b[0m\u001b[1;33m(\u001b[0m\u001b[1;34m'b'\u001b[0m\u001b[1;33m)\u001b[0m\u001b[1;33m\u001b[0m\u001b[1;33m\u001b[0m\u001b[0m\n\u001b[1;32m---> 31\u001b[1;33m \u001b[0ml\u001b[0m\u001b[1;33m.\u001b[0m\u001b[0mappend\u001b[0m\u001b[1;33m(\u001b[0m\u001b[1;36m1\u001b[0m\u001b[1;33m,\u001b[0m\u001b[1;34m'b'\u001b[0m\u001b[1;33m)\u001b[0m\u001b[1;33m\u001b[0m\u001b[1;33m\u001b[0m\u001b[0m\n\u001b[0m\u001b[0;32m     32\u001b[0m \u001b[0ml\u001b[0m\u001b[1;33m.\u001b[0m\u001b[0mappend\u001b[0m\u001b[1;33m(\u001b[0m\u001b[1;34m'c'\u001b[0m\u001b[1;33m)\u001b[0m\u001b[1;33m\u001b[0m\u001b[1;33m\u001b[0m\u001b[0m\n\u001b[0;32m     33\u001b[0m \u001b[0ml\u001b[0m\u001b[1;33m.\u001b[0m\u001b[0mappend\u001b[0m\u001b[1;33m(\u001b[0m\u001b[1;34m'e'\u001b[0m\u001b[1;33m,\u001b[0m\u001b[1;33m)\u001b[0m\u001b[1;33m\u001b[0m\u001b[1;33m\u001b[0m\u001b[0m\n",
      "\u001b[1;31mTypeError\u001b[0m: append() takes exactly one argument (2 given)"
     ]
    }
   ],
   "source": [
    "# list\n",
    "l = []\n",
    "l\n",
    "print (l)\n",
    "\n",
    "l = [5,6,7]\n",
    "l\n",
    "print (l)\n",
    "\n",
    "l = ['k','a','r','u','n','a']\n",
    "l\n",
    "print (l)\n",
    "\n",
    "l = [5,\"Karna\",1.5,True]\n",
    "l\n",
    "type (l)\n",
    "\n",
    "l = [5,\"Karna\",1.5,True]\n",
    "l2 = list (l)\n",
    "l2\n",
    "type(l2)\n",
    "\n",
    "#List\n",
    "\n",
    "list ('abcdefgh')\n",
    "\n",
    "#append\n",
    "l=[]\n",
    "l.append('adfs')\n",
    "l.append('b')\n",
    "l.append(1)\n",
    "l.append('c')\n",
    "l.append('e',)\n",
    "l.insert(2,'d')\n",
    "l\n"
   ]
  },
  {
   "cell_type": "code",
   "execution_count": 101,
   "metadata": {},
   "outputs": [
    {
     "name": "stdout",
     "output_type": "stream",
     "text": [
      "Sum of numbers is 210\n"
     ]
    }
   ],
   "source": [
    "# while Loop\n",
    "\n",
    "# Program to add natural\n",
    "# numbers upto \n",
    "# sum = 1+2+3+...+n\n",
    "\n",
    "# To take input from the user,\n",
    "# n = int(input(\"Enter n: \"))\n",
    "\n",
    "a = 20\n",
    "sum = 0\n",
    "i= 1\n",
    "\n",
    "while i <= a:\n",
    "    sum = sum + i\n",
    "    i = i + 1  # To update counter i\n",
    "\n",
    "print ('Sum of numbers is', sum)\n",
    "    \n",
    "\n"
   ]
  },
  {
   "cell_type": "code",
   "execution_count": 120,
   "metadata": {},
   "outputs": [
    {
     "data": {
      "text/plain": [
       "'jihgfed'"
      ]
     },
     "execution_count": 120,
     "metadata": {},
     "output_type": "execute_result"
    }
   ],
   "source": [
    "l =('abcdefghij')\n",
    "l\n",
    "l[0]\n",
    "l[0:5]\n",
    "l[0:15:3]\n",
    "l[::-1]\n",
    "l[:2:-1]\n"
   ]
  },
  {
   "cell_type": "code",
   "execution_count": 126,
   "metadata": {},
   "outputs": [
    {
     "name": "stdout",
     "output_type": "stream",
     "text": [
      "range(0, 10)\n",
      "[0, 1, 2, 3, 4, 5, 6, 7, 8, 9]\n",
      "[2, 3, 4, 5, 6, 7, 8, 9]\n",
      "[0, 2, 4, 6, 8]\n"
     ]
    }
   ],
   "source": [
    "# Range\n",
    "print (range(10))\n",
    "print (list(range(10)))\n",
    "print (list (range(2,10)))\n",
    "print (list(range(0,10,2)))"
   ]
  },
  {
   "cell_type": "code",
   "execution_count": 131,
   "metadata": {},
   "outputs": [
    {
     "name": "stdout",
     "output_type": "stream",
     "text": [
      "I Like  karna\n",
      "I Like  Rishi\n",
      "I Like  Latha\n",
      "I Like  Varsha\n"
     ]
    }
   ],
   "source": [
    "# Program to iterate through a list using indexing\n",
    "\n",
    "data = [\"karna\",\"Rishi\", \"Latha\", \"Varsha\"]\n",
    "\n",
    "for i in range (len(data)):\n",
    "    print(\"I Like \",data[i])\n",
    "    "
   ]
  },
  {
   "cell_type": "code",
   "execution_count": null,
   "metadata": {},
   "outputs": [],
   "source": [
    "# Break\n",
    "for val in \"Karunakar\":\n",
    "    if val \n",
    "\n"
   ]
  }
 ],
 "metadata": {
  "kernelspec": {
   "display_name": "Python 3",
   "language": "python",
   "name": "python3"
  },
  "language_info": {
   "codemirror_mode": {
    "name": "ipython",
    "version": 3
   },
   "file_extension": ".py",
   "mimetype": "text/x-python",
   "name": "python",
   "nbconvert_exporter": "python",
   "pygments_lexer": "ipython3",
   "version": "3.7.3"
  }
 },
 "nbformat": 4,
 "nbformat_minor": 2
}
